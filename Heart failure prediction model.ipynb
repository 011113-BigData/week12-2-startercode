{
 "cells": [
  {
   "cell_type": "markdown",
   "id": "561716ca-cd9a-40a7-b66f-3047e10bcabd",
   "metadata": {
    "tags": []
   },
   "source": [
    "## Heart failure prediction model\n",
    "This notebook shows how to create the heart failure prediction model and how to use the created model to predict with new data.\n",
    "\n",
    "### Attribute Information:\n",
    "\n",
    "**Thirteen (13) clinical features:**\n",
    "\n",
    "- *age*: age of the patient (years)\n",
    "- *anaemia*: decrease of red blood cells or hemoglobin (boolean)\n",
    "- *creatinine_phosphokinase*: level of the creatinine phosphokinase enzyme in the blood (mcg/L)\n",
    "- *diabetes*: if the patient has diabetes (boolean)\n",
    "- *ejection_fraction*: percentage of blood leaving the heart at each contraction (percentage)\n",
    "- *high_blood_pressure*: if the patient has hypertension (boolean)\n",
    "- *platelets*: platelets in the blood (kiloplatelets/mL)\n",
    "- *serum_creatinine*: level of serum creatinine in the blood (mg/dL)\n",
    "- *serum_sodium*: level of serum sodium in the blood (mEq/L)\n",
    "- *sex*: woman or man (binary)\n",
    "- *smoking*: if the patient smokes or not (boolean)\n",
    "- *time*: follow-up period (days)\n",
    "- [target/output class] *DEATH_EVENT*: if the patient deceased during the follow-up period (boolean)\n",
    "\n",
    "### Dataset Source\n",
    "https://archive.ics.uci.edu/ml/datasets/Heart+failure+clinical+records"
   ]
  },
  {
   "cell_type": "markdown",
   "id": "a7694c86-cae7-41e7-859a-a9c1965a1bae",
   "metadata": {},
   "source": [
    "## Load the libraries"
   ]
  },
  {
   "cell_type": "markdown",
   "id": "565a9856-e59a-4eb6-8a45-a0b88166d7ed",
   "metadata": {},
   "source": [
    "Libraries used are:\n",
    "- pandas\n",
    "- sklearn (to create our prediction model)\n",
    "- Flask (as back-end of our web app)\n",
    "- waitress (to run the Flask web app)\n",
    "- pymongo (to communicate with mongodb database)\n",
    "- matplotlib\n",
    "\n",
    "*Notes:*\n",
    "- The MongoDB will be used to store the dataset as well as the future prediction results.\n",
    "- Make sure you have mongodb installed in your VM if you are working with your own VM instance or use the MongoDB provided in this class.\n",
    "- A MongoDB instance address will be shared in the class."
   ]
  },
  {
   "cell_type": "code",
   "execution_count": null,
   "id": "c740788a-3268-4d06-892c-99daef0e7ff6",
   "metadata": {},
   "outputs": [],
   "source": [
    "# import the modules/libraries\n",
    "import pandas as pd\n",
    "from pymongo import MongoClient\n",
    "\n",
    "# suppress all warnings (ignore unnecessary warnings msgs)\n",
    "import warnings\n",
    "warnings.filterwarnings(\"ignore\")"
   ]
  },
  {
   "cell_type": "markdown",
   "id": "6125d580-563a-41a1-8da5-09ca1b301761",
   "metadata": {},
   "source": [
    "## Load the dataset"
   ]
  },
  {
   "cell_type": "code",
   "execution_count": null,
   "id": "6a6e7230-7420-42b9-bf32-348eb60d2671",
   "metadata": {},
   "outputs": [],
   "source": [
    "df = pd.read_csv('heart_failure_clinical_records_dataset.csv') #read the \"heart_failure_clinical_records_dataset.csv\" file and assign it to df variable"
   ]
  },
  {
   "cell_type": "code",
   "execution_count": null,
   "id": "08125dde-a6c8-438e-8267-7468abefe35f",
   "metadata": {},
   "outputs": [],
   "source": [
    "df.head() # show the first 5 data"
   ]
  },
  {
   "cell_type": "markdown",
   "id": "ed65ffe6-d34a-493f-9d3b-966dc83edd7c",
   "metadata": {},
   "source": [
    "## Store the dataset into mongoDB (if you haven't done it)"
   ]
  },
  {
   "cell_type": "code",
   "execution_count": null,
   "id": "db644c6c-7107-4a93-8df8-b501f2cb2a9f",
   "metadata": {},
   "outputs": [],
   "source": [
    "# 127.0.0.1 is the local mongodb address installed in this VM\n",
    "client = MongoClient('mongodb://127.0.0.1:27017/') "
   ]
  },
  {
   "cell_type": "code",
   "execution_count": null,
   "id": "32cb20cd-0250-4817-8199-e38ea60b1c36",
   "metadata": {},
   "outputs": [],
   "source": [
    "# YOU SHOULD change 'YOURDB' with your STUDENTID\n",
    "# Otherwise, you might end up accessing the same database as your classmate.\n",
    "db = client['YOURDB'] "
   ]
  },
  {
   "cell_type": "code",
   "execution_count": null,
   "id": "e108e319-5486-49d1-a084-47505b745c5b",
   "metadata": {},
   "outputs": [],
   "source": [
    "#heart_table is the collection (table) name in our mongodb database\n",
    "heart_table = db['heart_table']"
   ]
  },
  {
   "cell_type": "code",
   "execution_count": null,
   "id": "c61f9278-4d1f-4e74-9002-c293a6d44a23",
   "metadata": {},
   "outputs": [],
   "source": [
    "df_mongo = df.copy() #copy the dataset\n",
    "\n",
    "#convert the data into dictionary before saving it into mongodb\n",
    "df_mongo.reset_index(drop=True)\n",
    "data_dict = df_mongo.to_dict(\"records\")"
   ]
  },
  {
   "cell_type": "code",
   "execution_count": null,
   "id": "2b2df855-291e-4ed9-bbfd-ee52c197628a",
   "metadata": {},
   "outputs": [],
   "source": [
    "data_dict[:2] # show 2 data for example"
   ]
  },
  {
   "cell_type": "code",
   "execution_count": null,
   "id": "403acb4a-715e-4474-ab14-aebaf93fbb30",
   "metadata": {},
   "outputs": [],
   "source": [
    "# Insert all the records into mongodb collection\n",
    "heart_table.insert_many(data_dict)"
   ]
  },
  {
   "cell_type": "markdown",
   "id": "5e9ccad9-92fb-4108-8d75-28bc07773169",
   "metadata": {},
   "source": [
    "## Load the dataset from mongoDB database"
   ]
  },
  {
   "cell_type": "code",
   "execution_count": null,
   "id": "121bbdd7-94ae-4875-adf5-74074c60fc4c",
   "metadata": {},
   "outputs": [],
   "source": [
    "# 127.0.0.1 is the local mongodb address installed in this VM\n",
    "client = MongoClient('mongodb://127.0.0.1:27017/')\n",
    "# YOU SHOULD change 'YOURDB' with your STUDENTID\n",
    "db = client['YOURDB']\n",
    "#heart_table is the collection (table) name in our mongodb database\n",
    "heart_table = db['heart_table']\n",
    "\n",
    "# query all the records inside the mongodb collection\n",
    "heart_table_cursor = heart_table.find()\n",
    "\n",
    "# convert it into dataframe\n",
    "heart_df = pd.DataFrame(list(heart_table_cursor))\n",
    "\n",
    "heart_df = heart_df.drop(['_id'], axis=1) # drop _id column"
   ]
  },
  {
   "cell_type": "code",
   "execution_count": null,
   "id": "2fd25121-f7c3-4d88-805c-8f60f4778da9",
   "metadata": {},
   "outputs": [],
   "source": [
    "heart_df.head() # show the first 5 data"
   ]
  },
  {
   "cell_type": "markdown",
   "id": "7d8954ef-d579-4991-ba58-ddee1b1eab5a",
   "metadata": {},
   "source": [
    "## Data exploration"
   ]
  },
  {
   "cell_type": "code",
   "execution_count": null,
   "id": "36c8c800-7247-4359-b45e-796823c33cfc",
   "metadata": {},
   "outputs": [],
   "source": [
    "heart_df.describe() #describe the data"
   ]
  },
  {
   "cell_type": "code",
   "execution_count": null,
   "id": "21a6dc69-2739-472a-a7a1-ce21bad9ab64",
   "metadata": {},
   "outputs": [],
   "source": [
    "heart_df.columns #show the columns name"
   ]
  },
  {
   "cell_type": "code",
   "execution_count": null,
   "id": "087518f7-7f79-4741-8637-4890b73de245",
   "metadata": {},
   "outputs": [],
   "source": [
    "heart_df.shape #show the shape of the data (rows size, column size)"
   ]
  },
  {
   "cell_type": "code",
   "execution_count": null,
   "id": "8f6690aa-f669-4467-854a-5458fff0388b",
   "metadata": {},
   "outputs": [],
   "source": [
    "# Data Info\n",
    "heart_df.info()"
   ]
  },
  {
   "cell_type": "code",
   "execution_count": null,
   "id": "6381e78a-60f4-48d8-be9d-e9815067bb12",
   "metadata": {},
   "outputs": [],
   "source": [
    "# check missing values for each column \n",
    "heart_df.isnull().sum().sort_values(ascending=False)"
   ]
  },
  {
   "cell_type": "code",
   "execution_count": null,
   "id": "280c306e-977b-4d79-a30a-42144dd7c4d4",
   "metadata": {},
   "outputs": [],
   "source": [
    "heart_df.groupby('sex').size() #group the data based on column name: sex"
   ]
  },
  {
   "cell_type": "code",
   "execution_count": null,
   "id": "fe69a962-9543-42ad-9def-775a90289b2e",
   "metadata": {},
   "outputs": [],
   "source": [
    "age = heart_df['age'] # assign age with the data from dataframe df['age']\n",
    "age.hist(bins=10) #plot the histogram"
   ]
  },
  {
   "cell_type": "markdown",
   "id": "72abeed0-b005-4701-8a1f-0cb61443689f",
   "metadata": {},
   "source": [
    "## Splitting data into X_data (input) and Y_data (output)"
   ]
  },
  {
   "cell_type": "code",
   "execution_count": null,
   "id": "9ebb12f7-cd09-4b9d-9c2e-cf8183cd0fb6",
   "metadata": {},
   "outputs": [],
   "source": [
    "X_data = heart_df.drop(['DEATH_EVENT'], axis=1) #drop the column 'DEATH_EVENT' as it is not used as input X_data"
   ]
  },
  {
   "cell_type": "code",
   "execution_count": null,
   "id": "25969d68-c515-425d-b3d7-1352b89786c3",
   "metadata": {},
   "outputs": [],
   "source": [
    "Y_data = heart_df['DEATH_EVENT'] #copy column 'DEATH_EVENT' as output Y_data"
   ]
  },
  {
   "cell_type": "markdown",
   "id": "e5e405c4-1e57-4f1b-85fb-23ac93024cb4",
   "metadata": {},
   "source": [
    "## Splitting the data into train and test for each X_data (input), and Y_data (output)"
   ]
  },
  {
   "cell_type": "code",
   "execution_count": null,
   "id": "598c498c-98dc-426b-8844-aff2e79c67ef",
   "metadata": {},
   "outputs": [],
   "source": [
    "#import function to split the data into training and testing\n",
    "from sklearn.model_selection import train_test_split \n",
    "\n",
    "#Split the data into train and test for each X and y; test_size=0.3 means 30% for test data and the rest for training\n",
    "X_train, X_test, y_train, y_test = train_test_split(X_data, Y_data, random_state=0, test_size=0.3) "
   ]
  },
  {
   "cell_type": "markdown",
   "id": "d1fc4f83-f1ad-44d3-980d-ab1dd648fabf",
   "metadata": {},
   "source": [
    "## Initiate the model and train it using training data"
   ]
  },
  {
   "cell_type": "code",
   "execution_count": null,
   "id": "3f653fa6-a640-4e3e-9555-035fe9523ae0",
   "metadata": {},
   "outputs": [],
   "source": [
    "from sklearn.ensemble import RandomForestClassifier #import RF classifier\n",
    "\n",
    "model = RandomForestClassifier(random_state=0) # initiate the classifier/model\n",
    "model = model.fit(X_train, y_train) # training the model/classifier with training data (X_train and y_train)"
   ]
  },
  {
   "cell_type": "markdown",
   "id": "1be122c6-ccad-4efc-9056-1bd1780a23d1",
   "metadata": {},
   "source": [
    "## Evaluate the model performance by predicting the output of test data and comparing it with the real test output"
   ]
  },
  {
   "cell_type": "code",
   "execution_count": null,
   "id": "25284b75-46ff-4de7-8fa6-201f081b9125",
   "metadata": {},
   "outputs": [],
   "source": [
    "from sklearn import metrics #import the metrics from sklearn\n",
    "\n",
    "y_pred = model.predict(X_test) # predict the X_test\n",
    "confusion_matrix = metrics.confusion_matrix(y_test, y_pred) # confusion matrix\n",
    "accuracy = metrics.accuracy_score(y_test, y_pred) # calculate accuracy\n",
    "precision = metrics.precision_score(y_test, y_pred) # calculate precision\n",
    "recall = metrics.recall_score(y_test, y_pred) #calculate recall\n",
    "\n",
    "#get the true negative, false positive, false negative, and true positive\n",
    "tn, fp, fn, tp = metrics.confusion_matrix(y_test, y_pred).ravel() \n",
    "specificity = tn / (tn+fp)\n",
    "\n",
    "# print / show the output\n",
    "print(\"Confusion Matrix:\", confusion_matrix)\n",
    "print(\"Accuracy:\", accuracy)\n",
    "print(\"Precision:\", precision)\n",
    "print(\"Recall:\", recall)\n",
    "print(\"Specificity\", specificity)"
   ]
  },
  {
   "cell_type": "markdown",
   "id": "9b4de9ec-6ff9-4b0a-ad0b-ee8a09ead976",
   "metadata": {},
   "source": [
    "## Export the prediction model into FILENAME.model file"
   ]
  },
  {
   "cell_type": "code",
   "execution_count": null,
   "id": "7fdb0065-0c01-4711-8992-7f679eb54785",
   "metadata": {},
   "outputs": [],
   "source": [
    "# save the model using joblib\n",
    "import joblib\n",
    "\n",
    "filename = \"RF.model\" #filename\n",
    "joblib.dump(model, filename)"
   ]
  },
  {
   "cell_type": "markdown",
   "id": "c240a33d-7bed-4041-be92-ea418293d5b6",
   "metadata": {},
   "source": [
    "## Import the prediction model and use it to predict with new data"
   ]
  },
  {
   "cell_type": "code",
   "execution_count": null,
   "id": "d24d1c06-ec81-4523-8966-1e24989950f6",
   "metadata": {},
   "outputs": [],
   "source": [
    "import joblib\n",
    "import numpy as np\n",
    "\n",
    "filename = \"RF.model\" #filename\n",
    "loaded_model = joblib.load(filename)\n",
    "\n",
    "#new data\n",
    "'''\n",
    "features = ['age', 'anaemia', 'creatinine_phosphokinase', 'diabetes','ejection_fraction', 'high_blood_pressure', 'platelets','serum_creatinine', 'serum_sodium', 'sex', 'smoking', 'time'\n",
    "'''\n",
    "\n",
    "new_data = np.array([[50.0, 0, 196, 0, 45, 0, 395000.0, 1.6, 136, 1, 1, 285]])\n",
    "#predict new_data\n",
    "new_data_pred = loaded_model.predict(new_data)\n",
    "\n",
    "print(\"Predicted as\", new_data_pred[0])"
   ]
  },
  {
   "cell_type": "markdown",
   "id": "f65e5da5-035d-4861-996a-3f88cd8d2d51",
   "metadata": {},
   "source": [
    "## Now let's create a web app so that it can be useful :)\n",
    "\n",
    "check and run the webapp.py code"
   ]
  },
  {
   "cell_type": "markdown",
   "id": "c93cc426-c383-40a0-a4b1-b72673110f0c",
   "metadata": {},
   "source": []
  },
  {
   "cell_type": "code",
   "execution_count": null,
   "id": "e0283ce2-0cea-44c9-aa6b-9c581d613fb1",
   "metadata": {},
   "outputs": [],
   "source": []
  }
 ],
 "metadata": {
  "kernelspec": {
   "display_name": "Python 3 (ipykernel)",
   "language": "python",
   "name": "python3"
  },
  "language_info": {
   "codemirror_mode": {
    "name": "ipython",
    "version": 3
   },
   "file_extension": ".py",
   "mimetype": "text/x-python",
   "name": "python",
   "nbconvert_exporter": "python",
   "pygments_lexer": "ipython3",
   "version": "3.8.10"
  }
 },
 "nbformat": 4,
 "nbformat_minor": 5
}
